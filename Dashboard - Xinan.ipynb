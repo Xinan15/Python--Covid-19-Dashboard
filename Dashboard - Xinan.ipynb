{
 "cells": [
  {
   "cell_type": "markdown",
   "metadata": {
    "id": "csP2h0c6uewK"
   },
   "source": [
    "[DIY Covid-19 Dashboard Kit](https://github.com/fsmeraldi/diy-covid19dash) (C) Fabrizio Smeraldi, 2020 ([f.smeraldi@qmul.ac.uk](mailto:f.smeraldi@qmul.ac.uk) - [web](http://www.eecs.qmul.ac.uk/~fabri/)). All rights reserved."
   ]
  },
  {
   "cell_type": "markdown",
   "metadata": {
    "id": "ywUsLL-wuewL"
   },
   "source": [
    "# DIY Covid-19 Dashboard"
   ]
  },
  {
   "cell_type": "markdown",
   "metadata": {
    "id": "yfl43QL9uewM"
   },
   "source": [
    "Initialize the environment and import the necessary library"
   ]
  },
  {
   "cell_type": "code",
   "execution_count": 2,
   "metadata": {
    "colab": {
     "base_uri": "https://localhost:8080/"
    },
    "id": "t86c9fWowZoz",
    "outputId": "5d5b8a79-2611-4b08-fc09-fa84e3826be1"
   },
   "outputs": [
    {
     "name": "stdout",
     "output_type": "stream",
     "text": [
      "Defaulting to user installation because normal site-packages is not writeable\n",
      "Requirement already satisfied: uk-covid19 in c:\\users\\xa\\appdata\\roaming\\python\\python39\\site-packages (1.2.2)\n",
      "Requirement already satisfied: requests in e:\\anaconda\\anaconda3\\lib\\site-packages (from uk-covid19) (2.28.1)\n",
      "Requirement already satisfied: certifi in e:\\anaconda\\anaconda3\\lib\\site-packages (from uk-covid19) (2022.9.14)\n",
      "Requirement already satisfied: idna<4,>=2.5 in e:\\anaconda\\anaconda3\\lib\\site-packages (from requests->uk-covid19) (3.3)\n",
      "Requirement already satisfied: charset-normalizer<3,>=2 in e:\\anaconda\\anaconda3\\lib\\site-packages (from requests->uk-covid19) (2.0.4)\n",
      "Requirement already satisfied: urllib3<1.27,>=1.21.1 in e:\\anaconda\\anaconda3\\lib\\site-packages (from requests->uk-covid19) (1.26.11)\n"
     ]
    }
   ],
   "source": [
    "!pip install uk-covid19"
   ]
  },
  {
   "cell_type": "code",
   "execution_count": 3,
   "metadata": {
    "id": "27bL2paRuewM"
   },
   "outputs": [],
   "source": [
    "from IPython.display import clear_output\n",
    "import ipywidgets as wdg\n",
    "import pandas as pd\n",
    "import numpy as np\n",
    "import matplotlib.pyplot as plt\n",
    "import json\n",
    "from uk_covid19 import Cov19API"
   ]
  },
  {
   "cell_type": "code",
   "execution_count": 4,
   "metadata": {
    "id": "c82cwK4yuewN"
   },
   "outputs": [],
   "source": [
    "%matplotlib inline\n",
    "# make figures larger\n",
    "plt.rcParams['figure.dpi'] = 100"
   ]
  },
  {
   "cell_type": "markdown",
   "metadata": {
    "id": "paefx0huuewN"
   },
   "source": [
    "## Load initial data from disk\n",
    "\n",
    "You should include \"canned\" data in ```.json``` files along with your dashboard. When the dashboard starts, it should load that data (the code below will be hidden when the dashboard is rendered by Voila)."
   ]
  },
  {
   "cell_type": "code",
   "execution_count": 5,
   "metadata": {
    "id": "h2bfKPBGuewN"
   },
   "outputs": [],
   "source": [
    "# Load JSON files and store the raw data in some variable. Edit as appropriate\n",
    "with open(\"timeseries.json\", \"rt\") as input:\n",
    "  jsondata=json.load(input)"
   ]
  },
  {
   "cell_type": "markdown",
   "metadata": {
    "id": "--wQemQiuewO"
   },
   "source": [
    "## Wrangle the data\n",
    "\n",
    "To wrangle the raw data to Dataframe.\n",
    "The data involved are:\n",
    "* Cases: The number of cases that are published on the date.\n",
    "\n",
    "* Hospital: The number of hospital admission that are published on the date.\n",
    "\n",
    "* Death: the number of deaths are published on the date.\n",
    "\n"
   ]
  },
  {
   "cell_type": "code",
   "execution_count": 6,
   "metadata": {
    "id": "xtDiuOH8uewO"
   },
   "outputs": [],
   "source": [
    "\n",
    "\n",
    "def wrangle_data(rawdata):\n",
    "    \"\"\" Parameters: rawdata - data from json file or API call. Returns a dataframe.\n",
    "    Edit to include the code that wrangles the data, creates the dataframe and fills it in. \"\"\"\n",
    "    datadict = rawdata[\"data\"]\n",
    "    # initial the columns\n",
    "    date=[]\n",
    "    case=[]\n",
    "    host=[]\n",
    "    death=[]\n",
    "    for d in datadict:\n",
    "      date.append(d[\"date\"])\n",
    "      case.append(d[\"cases\"])\n",
    "      host.append(d[\"hospital\"])\n",
    "      death.append(d[\"deaths\"])\n",
    "\n",
    "    # sort the data by datetime\n",
    "    res = pd.DataFrame({\"date\":date,\"cases\":case,\"hospital\":host,\"deaths\":death}).sort_values(by=\"date\")\n",
    "    res = res.fillna(0)\n",
    "    return res\n",
    "\n",
    "\n",
    "# putting the wrangling code into a function allows you to call it again after refreshing the data through \n",
    "# the API. You should call the function directly on the JSON data when the dashboard starts, by including \n",
    "# the call in the cell as below:\n",
    "df=wrangle_data(jsondata) # df is the dataframe for plotting"
   ]
  },
  {
   "cell_type": "markdown",
   "metadata": {
    "id": "xZ0lafe1uewO"
   },
   "source": [
    "## Download current data"
   ]
  },
  {
   "cell_type": "markdown",
   "metadata": {
    "id": "-r-gV1hjuewP"
   },
   "source": [
    "The “refresh” button callback can do the following\n",
    "* call the code that accesses the API and download some fresh raw data;\n",
    "* wrangle that data into a dataframe and update the corresponding (global) variable for plotting;\n",
    "* force a redraw of the graph and give the feedback.\n"
   ]
  },
  {
   "cell_type": "code",
   "execution_count": 7,
   "metadata": {
    "id": "Kf8wdZy9uewP"
   },
   "outputs": [],
   "source": [
    "# Place your API access code in this function. Do not call this function directly; it will be called by \n",
    "# the button callback. \n",
    "def access_api():\n",
    "    \"\"\" Accesses the PHE API. Returns raw data in the same format as data loaded from the \"canned\" JSON file. \"\"\"\n",
    "    # setting up the filters and structure for api\n",
    "    filters = ['areaType=nation','areaName=England']\n",
    "    structure = {\n",
    "    \"date\": \"date\",\n",
    "    \"cases\": \"newCasesByPublishDate\",\n",
    "    \"hospital\": \"newAdmissions\",\n",
    "    \"deaths\": \"newDeathsByDeathDate\"}\n",
    "\n",
    "    api=Cov19API(filters=filters, structure=structure)\n",
    "\n",
    "    try:\n",
    "        apinewdata=api.get_json()  \n",
    "    except:\n",
    "        apibutton.button_style='warning'\n",
    "        apibutton.icon='unlink'\n",
    "        apibutton.description = \"Unavailable\"\n",
    "    return apinewdata # return data read from the API"
   ]
  },
  {
   "cell_type": "code",
   "execution_count": 8,
   "metadata": {
    "colab": {
     "base_uri": "https://localhost:8080/",
     "height": 49,
     "referenced_widgets": [
      "9ff6b3016c8d4623ac7f258548b802d0",
      "54a91f476c1f497cabd1a4ed07f737b4",
      "c32725f9474b4364adbe666e2795db07"
     ]
    },
    "id": "QcstLSlguewP",
    "outputId": "aeb65c49-9c25-4c6c-acc3-83513668c7b1"
   },
   "outputs": [
    {
     "data": {
      "application/vnd.jupyter.widget-view+json": {
       "model_id": "4789001d14024fc080ddff0e81c004d2",
       "version_major": 2,
       "version_minor": 0
      },
      "text/plain": [
       "Button(button_style='info', description='Refresh', icon='exclamation-triangle', style=ButtonStyle(), tooltip='…"
      ]
     },
     "metadata": {},
     "output_type": "display_data"
    }
   ],
   "source": [
    "# Printout from this function will be lost in Voila unless captured in an\n",
    "# output widget - therefore, we give feedback to the user by changing the \n",
    "# appearance of the button\n",
    "def api_button_callback(button):\n",
    "    \"\"\" Button callback - it must take the button as its parameter (unused in this case).\n",
    "    Accesses API, wrangles data, updates global variable df used for plotting. \"\"\"\n",
    "    # Get fresh data from the API. If you have time, include some error handling\n",
    "    # around this call.\n",
    "    apidata=access_api()\n",
    "    # wrangle the data and overwrite the dataframe for plotting\n",
    "    global df\n",
    "    df=wrangle_data(apidata)\n",
    "    # the graph won't refresh until the user interacts with the widget.\n",
    "    # this function simulates the interaction, see Graph and Analysis below.\n",
    "    # you can omit this step in the first instance\n",
    "    try:\n",
    "      refresh_graph()\n",
    "      # after all is done, you can switch the icon on the button to a \"check\" sign\n",
    "      # and optionally disable the button - it won't be needed again. You can use icons\n",
    "      # \"unlink\" or \"times\" and change the button text to \"Unavailable\" in case the \n",
    "      # api call fails.\n",
    "      apibutton.icon=\"check\"\n",
    "    # apibutton.disabled=True\n",
    "    except:\n",
    "      apibutton.icon=\"unlink\"\n",
    "      apibutton.description = \"Unavailable\"\n",
    "\n",
    "    \n",
    "apibutton=wdg.Button(\n",
    "    description='Refresh', # you may want to change this...\n",
    "    disabled=False,\n",
    "    button_style='info', # 'success', 'info', 'warning', 'danger' or ''\n",
    "    tooltip=\"Click for latest Public Health England data\",\n",
    "    # FontAwesome names without the `fa-` prefix - try \"download\"\n",
    "    icon='exclamation-triangle'\n",
    ")\n",
    "\n",
    "# remember to register your button callback function with the button\n",
    "apibutton.on_click(api_button_callback) # the name of your function inside these brackets\n",
    "\n",
    "display(apibutton)\n",
    "\n",
    "# run all cells before clicking on this button"
   ]
  },
  {
   "cell_type": "markdown",
   "metadata": {
    "id": "pPKBqK15uewQ"
   },
   "source": [
    "## Graphs and Analysis"
   ]
  },
  {
   "cell_type": "code",
   "execution_count": 9,
   "metadata": {
    "colab": {
     "base_uri": "https://localhost:8080/",
     "height": 426,
     "referenced_widgets": [
      "3824349851624e1f9cdb757c0f418ede",
      "00101912aeff4f99ac12ceaa15e14c14",
      "d2f04fc8883e44d2979c4befa707a46c",
      "11ec40b878e74126bd7593fb2a01bc4b",
      "33386e2728cc49b9b8a8d499d2ff6a8a",
      "10b9c0c725b94a3a9ae7e4b367304f08",
      "6b33c1d40e8d4e299cc5d1de31c20cd5",
      "d8b28a0993d2437d916ea20552bbd1be",
      "11a8357e250d4bc7a7114ae9ee2dea17",
      "a97ca46f98b44a9f9b460965f3a17d5e"
     ]
    },
    "id": "XtxMg4UEuewQ",
    "outputId": "005df486-9614-41fd-a3f0-004bd73262b0"
   },
   "outputs": [
    {
     "data": {
      "application/vnd.jupyter.widget-view+json": {
       "model_id": "06ea8900937045389f5860b19b5db128",
       "version_major": 2,
       "version_minor": 0
      },
      "text/plain": [
       "HBox(children=(SelectMultiple(description='Stats:', index=(0, 1, 2), options=('cases', 'hospital', 'deaths'), …"
      ]
     },
     "metadata": {},
     "output_type": "display_data"
    },
    {
     "data": {
      "application/vnd.jupyter.widget-view+json": {
       "model_id": "27ec3833562c4f71952099b339bb86ff",
       "version_major": 2,
       "version_minor": 0
      },
      "text/plain": [
       "Output()"
      ]
     },
     "metadata": {},
     "output_type": "display_data"
    }
   ],
   "source": [
    "# set up the widget\n",
    "series=wdg.SelectMultiple(\n",
    "    options=['cases', \"hospital\",'deaths'],\n",
    "    value=['cases', \"hospital\",'deaths'],\n",
    "    rows=3,\n",
    "    description='Stats:',\n",
    "    disabled=False\n",
    ")\n",
    "\n",
    "scale=wdg.RadioButtons(\n",
    "    options=['linear', 'log'],\n",
    "    description='Scale:',\n",
    "    disabled=False\n",
    ")\n",
    "\n",
    "# HBox \n",
    "controls=wdg.HBox([series, scale])\n",
    "\n",
    "# timeserires graph for cases, hospital, and deaths\n",
    "def timeseries_graph(gcols, gscale):\n",
    "    if gscale=='linear':\n",
    "        logscale=False\n",
    "    else:\n",
    "        logscale=True\n",
    "    ncols=len(gcols)\n",
    "    if ncols>0:\n",
    "        df[list(gcols)].plot(logy=logscale)\n",
    "        plt.show() # important - graphs won't update if this is missing \n",
    "    else:\n",
    "        print(\"Click to select data for graph\")\n",
    "        print(\"(CTRL-Click to select more than one category)\")\n",
    "\n",
    "\n",
    "def refresh_graph():\n",
    "    \"\"\" We change the value of the widget in order to force a redraw of the graph;\n",
    "    this is useful when the data have been updated. This is a bit of a gimmick; it\n",
    "    needs to be customised for one of your widgets. \"\"\"\n",
    "    current=scale.value\n",
    "    if current==scale.options[0]:\n",
    "        other=scale.options[1]\n",
    "    else:\n",
    "        other=scale.options[0]\n",
    "    scale.value=other # forces the redraw\n",
    "    scale.value=current # now we can change it back\n",
    "    \n",
    "    \n",
    "graph=wdg.interactive_output(timeseries_graph, {'gcols': series, 'gscale': scale})\n",
    "\n",
    "display(controls, graph)\n"
   ]
  },
  {
   "cell_type": "markdown",
   "metadata": {
    "id": "imNo2srfuewQ"
   },
   "source": [
    "## Deploying the dashboard\n",
    "\n",
    "Once your code is ready and you are satisfied with the appearance of the graphs, replace all the text boxes above with the explanations you would like a dashboard user to see. The next step is deploying the dashboard online - there are several [options](https://voila.readthedocs.io/en/stable/deploy.html) for this, we suggest deploying as a [Binder](https://mybinder.org/). This is basically the same technique that has been used to package this tutorial and to deploy this template dashboard. The instructions may seem a bit involved, but the actual steps are surprisingly easy - we will be going through them together during a live session. You will need an account on [GitHub](https://github.com/) for this - if you don't have one already, now it's the time to create it. "
   ]
  },
  {
   "cell_type": "markdown",
   "metadata": {
    "id": "t4L6BYZKuewQ"
   },
   "source": [
    "**Author and Copyright Notice** Remember if you deploy this dashboard as a Binder it will be publicly accessible. Take credit for your work! Also acknowledge the data source: *Based on UK Government [data](https://coronavirus.data.gov.uk/) published by [Public Health England](https://www.gov.uk/government/organisations/public-health-england).*"
   ]
  },
  {
   "cell_type": "markdown",
   "metadata": {},
   "source": [
    "Xinan Yang 220384201"
   ]
  }
 ],
 "metadata": {
  "colab": {
   "provenance": []
  },
  "kernelspec": {
   "display_name": "Python 3 (ipykernel)",
   "language": "python",
   "name": "python3"
  },
  "language_info": {
   "codemirror_mode": {
    "name": "ipython",
    "version": 3
   },
   "file_extension": ".py",
   "mimetype": "text/x-python",
   "name": "python",
   "nbconvert_exporter": "python",
   "pygments_lexer": "ipython3",
   "version": "3.9.13"
  },
  "widgets": {
   "application/vnd.jupyter.widget-state+json": {
    "00101912aeff4f99ac12ceaa15e14c14": {
     "model_module": "@jupyter-widgets/controls",
     "model_module_version": "1.5.0",
     "model_name": "SelectMultipleModel",
     "state": {
      "_dom_classes": [],
      "_model_module": "@jupyter-widgets/controls",
      "_model_module_version": "1.5.0",
      "_model_name": "SelectMultipleModel",
      "_options_labels": [
       "cases",
       "hospital",
       "deaths"
      ],
      "_view_count": null,
      "_view_module": "@jupyter-widgets/controls",
      "_view_module_version": "1.5.0",
      "_view_name": "SelectMultipleView",
      "description": "Stats:",
      "description_tooltip": null,
      "disabled": false,
      "index": [
       0
      ],
      "layout": "IPY_MODEL_33386e2728cc49b9b8a8d499d2ff6a8a",
      "rows": 3,
      "style": "IPY_MODEL_10b9c0c725b94a3a9ae7e4b367304f08"
     }
    },
    "10b9c0c725b94a3a9ae7e4b367304f08": {
     "model_module": "@jupyter-widgets/controls",
     "model_module_version": "1.5.0",
     "model_name": "DescriptionStyleModel",
     "state": {
      "_model_module": "@jupyter-widgets/controls",
      "_model_module_version": "1.5.0",
      "_model_name": "DescriptionStyleModel",
      "_view_count": null,
      "_view_module": "@jupyter-widgets/base",
      "_view_module_version": "1.2.0",
      "_view_name": "StyleView",
      "description_width": ""
     }
    },
    "11a8357e250d4bc7a7114ae9ee2dea17": {
     "model_module": "@jupyter-widgets/output",
     "model_module_version": "1.0.0",
     "model_name": "OutputModel",
     "state": {
      "_dom_classes": [],
      "_model_module": "@jupyter-widgets/output",
      "_model_module_version": "1.0.0",
      "_model_name": "OutputModel",
      "_view_count": null,
      "_view_module": "@jupyter-widgets/output",
      "_view_module_version": "1.0.0",
      "_view_name": "OutputView",
      "layout": "IPY_MODEL_a97ca46f98b44a9f9b460965f3a17d5e",
      "msg_id": "",
      "outputs": [
       {
        "data": {
         "image/png": "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\n",
         "text/plain": "<Figure size 600x400 with 1 Axes>"
        },
        "metadata": {
         "needs_background": "light"
        },
        "output_type": "display_data"
       }
      ]
     }
    },
    "11ec40b878e74126bd7593fb2a01bc4b": {
     "model_module": "@jupyter-widgets/base",
     "model_module_version": "1.2.0",
     "model_name": "LayoutModel",
     "state": {
      "_model_module": "@jupyter-widgets/base",
      "_model_module_version": "1.2.0",
      "_model_name": "LayoutModel",
      "_view_count": null,
      "_view_module": "@jupyter-widgets/base",
      "_view_module_version": "1.2.0",
      "_view_name": "LayoutView",
      "align_content": null,
      "align_items": null,
      "align_self": null,
      "border": null,
      "bottom": null,
      "display": null,
      "flex": null,
      "flex_flow": null,
      "grid_area": null,
      "grid_auto_columns": null,
      "grid_auto_flow": null,
      "grid_auto_rows": null,
      "grid_column": null,
      "grid_gap": null,
      "grid_row": null,
      "grid_template_areas": null,
      "grid_template_columns": null,
      "grid_template_rows": null,
      "height": null,
      "justify_content": null,
      "justify_items": null,
      "left": null,
      "margin": null,
      "max_height": null,
      "max_width": null,
      "min_height": null,
      "min_width": null,
      "object_fit": null,
      "object_position": null,
      "order": null,
      "overflow": null,
      "overflow_x": null,
      "overflow_y": null,
      "padding": null,
      "right": null,
      "top": null,
      "visibility": null,
      "width": null
     }
    },
    "33386e2728cc49b9b8a8d499d2ff6a8a": {
     "model_module": "@jupyter-widgets/base",
     "model_module_version": "1.2.0",
     "model_name": "LayoutModel",
     "state": {
      "_model_module": "@jupyter-widgets/base",
      "_model_module_version": "1.2.0",
      "_model_name": "LayoutModel",
      "_view_count": null,
      "_view_module": "@jupyter-widgets/base",
      "_view_module_version": "1.2.0",
      "_view_name": "LayoutView",
      "align_content": null,
      "align_items": null,
      "align_self": null,
      "border": null,
      "bottom": null,
      "display": null,
      "flex": null,
      "flex_flow": null,
      "grid_area": null,
      "grid_auto_columns": null,
      "grid_auto_flow": null,
      "grid_auto_rows": null,
      "grid_column": null,
      "grid_gap": null,
      "grid_row": null,
      "grid_template_areas": null,
      "grid_template_columns": null,
      "grid_template_rows": null,
      "height": null,
      "justify_content": null,
      "justify_items": null,
      "left": null,
      "margin": null,
      "max_height": null,
      "max_width": null,
      "min_height": null,
      "min_width": null,
      "object_fit": null,
      "object_position": null,
      "order": null,
      "overflow": null,
      "overflow_x": null,
      "overflow_y": null,
      "padding": null,
      "right": null,
      "top": null,
      "visibility": null,
      "width": null
     }
    },
    "3824349851624e1f9cdb757c0f418ede": {
     "model_module": "@jupyter-widgets/controls",
     "model_module_version": "1.5.0",
     "model_name": "HBoxModel",
     "state": {
      "_dom_classes": [],
      "_model_module": "@jupyter-widgets/controls",
      "_model_module_version": "1.5.0",
      "_model_name": "HBoxModel",
      "_view_count": null,
      "_view_module": "@jupyter-widgets/controls",
      "_view_module_version": "1.5.0",
      "_view_name": "HBoxView",
      "box_style": "",
      "children": [
       "IPY_MODEL_00101912aeff4f99ac12ceaa15e14c14",
       "IPY_MODEL_d2f04fc8883e44d2979c4befa707a46c"
      ],
      "layout": "IPY_MODEL_11ec40b878e74126bd7593fb2a01bc4b"
     }
    },
    "54a91f476c1f497cabd1a4ed07f737b4": {
     "model_module": "@jupyter-widgets/base",
     "model_module_version": "1.2.0",
     "model_name": "LayoutModel",
     "state": {
      "_model_module": "@jupyter-widgets/base",
      "_model_module_version": "1.2.0",
      "_model_name": "LayoutModel",
      "_view_count": null,
      "_view_module": "@jupyter-widgets/base",
      "_view_module_version": "1.2.0",
      "_view_name": "LayoutView",
      "align_content": null,
      "align_items": null,
      "align_self": null,
      "border": null,
      "bottom": null,
      "display": null,
      "flex": null,
      "flex_flow": null,
      "grid_area": null,
      "grid_auto_columns": null,
      "grid_auto_flow": null,
      "grid_auto_rows": null,
      "grid_column": null,
      "grid_gap": null,
      "grid_row": null,
      "grid_template_areas": null,
      "grid_template_columns": null,
      "grid_template_rows": null,
      "height": null,
      "justify_content": null,
      "justify_items": null,
      "left": null,
      "margin": null,
      "max_height": null,
      "max_width": null,
      "min_height": null,
      "min_width": null,
      "object_fit": null,
      "object_position": null,
      "order": null,
      "overflow": null,
      "overflow_x": null,
      "overflow_y": null,
      "padding": null,
      "right": null,
      "top": null,
      "visibility": null,
      "width": null
     }
    },
    "6b33c1d40e8d4e299cc5d1de31c20cd5": {
     "model_module": "@jupyter-widgets/base",
     "model_module_version": "1.2.0",
     "model_name": "LayoutModel",
     "state": {
      "_model_module": "@jupyter-widgets/base",
      "_model_module_version": "1.2.0",
      "_model_name": "LayoutModel",
      "_view_count": null,
      "_view_module": "@jupyter-widgets/base",
      "_view_module_version": "1.2.0",
      "_view_name": "LayoutView",
      "align_content": null,
      "align_items": null,
      "align_self": null,
      "border": null,
      "bottom": null,
      "display": null,
      "flex": null,
      "flex_flow": null,
      "grid_area": null,
      "grid_auto_columns": null,
      "grid_auto_flow": null,
      "grid_auto_rows": null,
      "grid_column": null,
      "grid_gap": null,
      "grid_row": null,
      "grid_template_areas": null,
      "grid_template_columns": null,
      "grid_template_rows": null,
      "height": null,
      "justify_content": null,
      "justify_items": null,
      "left": null,
      "margin": null,
      "max_height": null,
      "max_width": null,
      "min_height": null,
      "min_width": null,
      "object_fit": null,
      "object_position": null,
      "order": null,
      "overflow": null,
      "overflow_x": null,
      "overflow_y": null,
      "padding": null,
      "right": null,
      "top": null,
      "visibility": null,
      "width": null
     }
    },
    "9ff6b3016c8d4623ac7f258548b802d0": {
     "model_module": "@jupyter-widgets/controls",
     "model_module_version": "1.5.0",
     "model_name": "ButtonModel",
     "state": {
      "_dom_classes": [],
      "_model_module": "@jupyter-widgets/controls",
      "_model_module_version": "1.5.0",
      "_model_name": "ButtonModel",
      "_view_count": null,
      "_view_module": "@jupyter-widgets/controls",
      "_view_module_version": "1.5.0",
      "_view_name": "ButtonView",
      "button_style": "info",
      "description": "Refresh",
      "disabled": false,
      "icon": "check",
      "layout": "IPY_MODEL_54a91f476c1f497cabd1a4ed07f737b4",
      "style": "IPY_MODEL_c32725f9474b4364adbe666e2795db07",
      "tooltip": "Click for latest Public Health England data"
     }
    },
    "a97ca46f98b44a9f9b460965f3a17d5e": {
     "model_module": "@jupyter-widgets/base",
     "model_module_version": "1.2.0",
     "model_name": "LayoutModel",
     "state": {
      "_model_module": "@jupyter-widgets/base",
      "_model_module_version": "1.2.0",
      "_model_name": "LayoutModel",
      "_view_count": null,
      "_view_module": "@jupyter-widgets/base",
      "_view_module_version": "1.2.0",
      "_view_name": "LayoutView",
      "align_content": null,
      "align_items": null,
      "align_self": null,
      "border": null,
      "bottom": null,
      "display": null,
      "flex": null,
      "flex_flow": null,
      "grid_area": null,
      "grid_auto_columns": null,
      "grid_auto_flow": null,
      "grid_auto_rows": null,
      "grid_column": null,
      "grid_gap": null,
      "grid_row": null,
      "grid_template_areas": null,
      "grid_template_columns": null,
      "grid_template_rows": null,
      "height": null,
      "justify_content": null,
      "justify_items": null,
      "left": null,
      "margin": null,
      "max_height": null,
      "max_width": null,
      "min_height": null,
      "min_width": null,
      "object_fit": null,
      "object_position": null,
      "order": null,
      "overflow": null,
      "overflow_x": null,
      "overflow_y": null,
      "padding": null,
      "right": null,
      "top": null,
      "visibility": null,
      "width": null
     }
    },
    "c32725f9474b4364adbe666e2795db07": {
     "model_module": "@jupyter-widgets/controls",
     "model_module_version": "1.5.0",
     "model_name": "ButtonStyleModel",
     "state": {
      "_model_module": "@jupyter-widgets/controls",
      "_model_module_version": "1.5.0",
      "_model_name": "ButtonStyleModel",
      "_view_count": null,
      "_view_module": "@jupyter-widgets/base",
      "_view_module_version": "1.2.0",
      "_view_name": "StyleView",
      "button_color": null,
      "font_weight": ""
     }
    },
    "d2f04fc8883e44d2979c4befa707a46c": {
     "model_module": "@jupyter-widgets/controls",
     "model_module_version": "1.5.0",
     "model_name": "RadioButtonsModel",
     "state": {
      "_dom_classes": [],
      "_model_module": "@jupyter-widgets/controls",
      "_model_module_version": "1.5.0",
      "_model_name": "RadioButtonsModel",
      "_options_labels": [
       "linear",
       "log"
      ],
      "_view_count": null,
      "_view_module": "@jupyter-widgets/controls",
      "_view_module_version": "1.5.0",
      "_view_name": "RadioButtonsView",
      "description": "Scale:",
      "description_tooltip": null,
      "disabled": false,
      "index": 0,
      "layout": "IPY_MODEL_6b33c1d40e8d4e299cc5d1de31c20cd5",
      "style": "IPY_MODEL_d8b28a0993d2437d916ea20552bbd1be"
     }
    },
    "d8b28a0993d2437d916ea20552bbd1be": {
     "model_module": "@jupyter-widgets/controls",
     "model_module_version": "1.5.0",
     "model_name": "DescriptionStyleModel",
     "state": {
      "_model_module": "@jupyter-widgets/controls",
      "_model_module_version": "1.5.0",
      "_model_name": "DescriptionStyleModel",
      "_view_count": null,
      "_view_module": "@jupyter-widgets/base",
      "_view_module_version": "1.2.0",
      "_view_name": "StyleView",
      "description_width": ""
     }
    }
   }
  }
 },
 "nbformat": 4,
 "nbformat_minor": 1
}
